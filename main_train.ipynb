{
 "metadata": {
  "kernelspec": {
   "name": "gpu",
   "language": "python",
   "display_name": "'Python(gpu)'"
  },
  "language_info": {
   "name": "python",
   "version": "3.7.12",
   "mimetype": "text/x-python",
   "codemirror_mode": {
    "name": "ipython",
    "version": 3
   },
   "pygments_lexer": "ipython3",
   "nbconvert_exporter": "python",
   "file_extension": ".py"
  }
 },
 "nbformat_minor": 4,
 "nbformat": 4,
 "cells": [
  {
   "cell_type": "code",
   "source": [
    "import numpy as np # linear algebra\n",
    "import pandas as pd # data processing, CSV file I/O (e.g. pd.read_csv)\n",
    "import theano as th\n",
    "import theano.tensor as T\n",
    "from keras.utils import np_utils\n",
    "import keras.models as models\n",
    "from keras.layers.core import Reshape,Dense,Dropout,Activation,Flatten\n",
    "from keras.layers.noise import GaussianNoise\n",
    "from keras.layers.convolutional import Convolution2D, MaxPooling2D, ZeroPadding2D\n",
    "from keras.regularizers import *\n",
    "from tensorflow.keras.optimizers import Adam\n",
    "import matplotlib.pyplot as plt\n",
    "import seaborn as sns\n",
    "import random, sys, keras\n",
    "import os\n",
    "import pickle"
   ],
   "metadata": {
    "_uuid": "8f2839f25d086af736a60e9eeb907d3b93b6e0e5",
    "_cell_guid": "b1076dfc-b9ad-4769-8c92-a6c4dae69d19",
    "execution": {
     "iopub.status.busy": "2023-09-18T06:27:47.201909Z",
     "iopub.execute_input": "2023-09-18T06:27:47.202542Z",
     "iopub.status.idle": "2023-09-18T06:27:56.368187Z",
     "shell.execute_reply.started": "2023-09-18T06:27:47.202434Z",
     "shell.execute_reply": "2023-09-18T06:27:56.367039Z"
    },
    "trusted": true,
    "pycharm": {
     "name": "#%%\n"
    }
   },
   "execution_count": 1,
   "outputs": [
    {
     "ename": "ModuleNotFoundError",
     "evalue": "No module named 'theano'",
     "output_type": "error",
     "traceback": [
      "\u001B[1;31m---------------------------------------------------------------------------\u001B[0m",
      "\u001B[1;31mModuleNotFoundError\u001B[0m                       Traceback (most recent call last)",
      "\u001B[1;32m<ipython-input-1-1ffffbf4c3d6>\u001B[0m in \u001B[0;36m<module>\u001B[1;34m\u001B[0m\n\u001B[0;32m      1\u001B[0m \u001B[1;32mimport\u001B[0m \u001B[0mnumpy\u001B[0m \u001B[1;32mas\u001B[0m \u001B[0mnp\u001B[0m \u001B[1;31m# linear algebra\u001B[0m\u001B[1;33m\u001B[0m\u001B[1;33m\u001B[0m\u001B[0m\n\u001B[0;32m      2\u001B[0m \u001B[1;32mimport\u001B[0m \u001B[0mpandas\u001B[0m \u001B[1;32mas\u001B[0m \u001B[0mpd\u001B[0m \u001B[1;31m# data processing, CSV file I/O (e.g. pd.read_csv)\u001B[0m\u001B[1;33m\u001B[0m\u001B[1;33m\u001B[0m\u001B[0m\n\u001B[1;32m----> 3\u001B[1;33m \u001B[1;32mimport\u001B[0m \u001B[0mtheano\u001B[0m \u001B[1;32mas\u001B[0m \u001B[0mth\u001B[0m\u001B[1;33m\u001B[0m\u001B[1;33m\u001B[0m\u001B[0m\n\u001B[0m\u001B[0;32m      4\u001B[0m \u001B[1;32mimport\u001B[0m \u001B[0mtheano\u001B[0m\u001B[1;33m.\u001B[0m\u001B[0mtensor\u001B[0m \u001B[1;32mas\u001B[0m \u001B[0mT\u001B[0m\u001B[1;33m\u001B[0m\u001B[1;33m\u001B[0m\u001B[0m\n\u001B[0;32m      5\u001B[0m \u001B[1;32mfrom\u001B[0m \u001B[0mkeras\u001B[0m\u001B[1;33m.\u001B[0m\u001B[0mutils\u001B[0m \u001B[1;32mimport\u001B[0m \u001B[0mnp_utils\u001B[0m\u001B[1;33m\u001B[0m\u001B[1;33m\u001B[0m\u001B[0m\n",
      "\u001B[1;31mModuleNotFoundError\u001B[0m: No module named 'theano'"
     ]
    }
   ]
  },
  {
   "cell_type": "code",
   "source": [
    "for dirname, _, filenames in os.walk('/kaggle/input'):\n",
    "    for filename in filenames:\n",
    "        print(os.path.join(dirname, filename))"
   ],
   "metadata": {
    "execution": {
     "iopub.status.busy": "2023-09-18T06:27:56.374892Z",
     "iopub.execute_input": "2023-09-18T06:27:56.377616Z",
     "iopub.status.idle": "2023-09-18T06:27:56.397217Z",
     "shell.execute_reply.started": "2023-09-18T06:27:56.377576Z",
     "shell.execute_reply": "2023-09-18T06:27:56.396182Z"
    },
    "trusted": true,
    "pycharm": {
     "name": "#%%\n"
    }
   },
   "execution_count": null,
   "outputs": []
  },
  {
   "cell_type": "code",
   "source": [
    "xd =  pickle.load(open('/kaggle/input/rml201610a-dict/RML2016.10a_dict.dat','rb'),encoding='latin1')"
   ],
   "metadata": {
    "execution": {
     "iopub.status.busy": "2023-09-18T06:27:56.402968Z",
     "iopub.execute_input": "2023-09-18T06:27:56.405580Z",
     "iopub.status.idle": "2023-09-18T06:28:04.635471Z",
     "shell.execute_reply.started": "2023-09-18T06:27:56.405539Z",
     "shell.execute_reply": "2023-09-18T06:28:04.634403Z"
    },
    "trusted": true,
    "pycharm": {
     "name": "#%%\n"
    }
   },
   "execution_count": null,
   "outputs": []
  },
  {
   "cell_type": "code",
   "source": [
    "snrs,mods = [sorted(list(set([x[j] for x in list(xd.keys())]))) for j in [1,0]]\n",
    "X = []  \n",
    "lbl = []\n",
    "for mod in mods:\n",
    "    for snr in snrs:\n",
    "        X.append(xd[(mod,snr)])\n",
    "        for i in range(xd[(mod,snr)].shape[0]):  \n",
    "            lbl.append((mod,snr))\n",
    "X = np.vstack(X)"
   ],
   "metadata": {
    "execution": {
     "iopub.status.busy": "2023-09-18T06:28:04.636992Z",
     "iopub.execute_input": "2023-09-18T06:28:04.637354Z",
     "iopub.status.idle": "2023-09-18T06:28:04.781420Z",
     "shell.execute_reply.started": "2023-09-18T06:28:04.637316Z",
     "shell.execute_reply": "2023-09-18T06:28:04.780383Z"
    },
    "trusted": true,
    "pycharm": {
     "name": "#%%\n"
    }
   },
   "execution_count": null,
   "outputs": []
  },
  {
   "cell_type": "code",
   "source": [
    "np.random.seed(2016)\n",
    "n_examples = X.shape[0]\n",
    "n_train = int(n_examples * 0.5)\n",
    "\n",
    "train_idx = np.random.choice(range(0,n_examples), size=n_train, replace=False)\n",
    "test_idx = list(set(range(0,n_examples))-set(train_idx))\n",
    "X_train = X[train_idx]\n",
    "X_test =  X[test_idx]\n",
    "\n",
    "def to_onehot(yy):\n",
    "    yy1 = np.zeros([len(yy), max(yy)+1])\n",
    "    yy1[np.arange(len(yy)),yy] = 1\n",
    "    return yy1\n",
    "\n",
    "Y_train = to_onehot(list(map(lambda x: mods.index(lbl[x][0]), train_idx)))\n",
    "Y_test = to_onehot(list(map(lambda x: mods.index(lbl[x][0]), test_idx)))\n",
    "\n",
    "in_shp = list(X_train.shape[1:])\n",
    "print(X_train.shape, in_shp)\n",
    "classes = mods"
   ],
   "metadata": {
    "execution": {
     "iopub.status.busy": "2023-09-18T06:28:04.784479Z",
     "iopub.execute_input": "2023-09-18T06:28:04.784868Z",
     "iopub.status.idle": "2023-09-18T06:28:05.203291Z",
     "shell.execute_reply.started": "2023-09-18T06:28:04.784831Z",
     "shell.execute_reply": "2023-09-18T06:28:05.202112Z"
    },
    "trusted": true,
    "pycharm": {
     "name": "#%%\n"
    }
   },
   "execution_count": null,
   "outputs": []
  },
  {
   "cell_type": "code",
   "source": [
    "# building thie model using tensorflow library (sequencial model)\n",
    "\n",
    "from keras.models import Sequential\n",
    "from keras.layers import Dense, Activation, Flatten, Dropout, Reshape\n",
    "from keras.layers import Convolution2D, ZeroPadding2D\n",
    "import keras.models as models\n",
    "\n",
    "\n",
    "dr = 0.2\n",
    "model = models.Sequential()\n",
    "model.add(Reshape([1]+in_shp, input_shape=in_shp))\n",
    "model.add(ZeroPadding2D((0, 2)))\n",
    "model.add(Convolution2D(256, 1, 3, activation = 'relu'))\n",
    "model.add(Dropout(dr))\n",
    "model.add(ZeroPadding2D((0, 2)))\n",
    "model.add(Convolution2D(200, 1, 3, activation = 'relu'))  \n",
    "model.add(Dropout(dr))\n",
    "model.add(ZeroPadding2D((0, 2)))\n",
    "model.add(Convolution2D(150, 1, 3, activation = 'relu'))  \n",
    "model.add(Dropout(dr))\n",
    "model.add(ZeroPadding2D((0, 2)))\n",
    "model.add(Convolution2D(80, 1, 3, activation = 'relu'))  \n",
    "model.add(Dropout(dr))\n",
    "model.add(ZeroPadding2D((0, 2)))\n",
    "model.add(Convolution2D(80, 1, 3, activation = 'relu'))  \n",
    "model.add(Dropout(dr))\n",
    "model.add(Flatten())\n",
    "model.add(Dense(256, activation='relu'))\n",
    "model.add(Dropout(dr))\n",
    "model.add(Dense(len(classes)))\n",
    "model.add(Activation('softmax'))\n",
    "model.add(Reshape([len(classes)]))\n",
    "model.compile(loss='categorical_crossentropy', optimizer='adam', metrics=['accuracy','mse','mae','mape'])\n",
    "model.summary()"
   ],
   "metadata": {
    "execution": {
     "iopub.status.busy": "2023-09-18T06:28:05.205061Z",
     "iopub.execute_input": "2023-09-18T06:28:05.205694Z",
     "iopub.status.idle": "2023-09-18T06:28:08.186423Z",
     "shell.execute_reply.started": "2023-09-18T06:28:05.205652Z",
     "shell.execute_reply": "2023-09-18T06:28:08.185336Z"
    },
    "trusted": true,
    "pycharm": {
     "name": "#%%\n"
    }
   },
   "execution_count": null,
   "outputs": []
  },
  {
   "cell_type": "code",
   "source": [
    "nb_epoch = 100\n",
    "batch_size = 1024\n",
    "\n",
    "# training the model\n",
    "history = model.fit(X_train,\n",
    "    Y_train,\n",
    "    batch_size=batch_size,\n",
    "    epochs=nb_epoch,\n",
    "    verbose=1,\n",
    "    validation_data=(X_test, Y_test),\n",
    "    shuffle=True,\n",
    "    class_weight=None,\n",
    "    )\n",
    "\n",
    "# saving the model\n",
    "model.save('model.h5')\n",
    "\n",
    "# loading the model\n",
    "from keras.models import load_model\n",
    "model = load_model('model.h5')\n",
    "\n",
    "# testing the model\n",
    "score = model.evaluate(X_test, Y_test, verbose=1, batch_size=batch_size)"
   ],
   "metadata": {
    "execution": {
     "iopub.status.busy": "2023-09-18T06:28:08.187932Z",
     "iopub.execute_input": "2023-09-18T06:28:08.188622Z"
    },
    "trusted": true,
    "pycharm": {
     "name": "#%%\n"
    }
   },
   "execution_count": null,
   "outputs": []
  },
  {
   "cell_type": "code",
   "source": [
    "# plotting the accuracy and loss\n",
    "plt.figure(figsize=(10, 8))\n",
    "\n",
    "plt.subplot(4, 1, 1)\n",
    "plt.plot(history.history['accuracy'], label='Training Accuracy')\n",
    "plt.plot(history.history['val_accuracy'], label='Validation Accuracy')\n",
    "plt.legend(loc = 'lower right')\n",
    "plt.title('Accuracy')\n",
    "\n",
    "plt.subplot(4, 1, 2)\n",
    "plt.plot(history.history['loss'], label='Training Loss')\n",
    "plt.plot(history.history['val_loss'], label='Validation Loss')\n",
    "plt.legend(loc = 'upper right')\n",
    "plt.title('Loss')\n",
    "\n",
    "plt.subplot(4, 1, 3)\n",
    "plt.plot(history.history['mse'], label='Training MSE')\n",
    "plt.plot(history.history['val_mse'], label='Validation MSE')\n",
    "plt.legend(loc = 'upper right')\n",
    "plt.title('MSE')\n",
    "\n",
    "plt.subplot(4, 1, 4)\n",
    "plt.plot(history.history['mae'], label='Training MAE')\n",
    "plt.plot(history.history['val_mae'], label='Validation MAE')\n",
    "plt.legend(loc = 'upper right')\n",
    "plt.title('MAE')\n",
    "\n",
    "plt.show()"
   ],
   "metadata": {
    "trusted": true,
    "pycharm": {
     "name": "#%%\n"
    }
   },
   "execution_count": null,
   "outputs": []
  },
  {
   "cell_type": "code",
   "source": [
    "# plotting the confusion matrix \n",
    "\n",
    "from sklearn.metrics import confusion_matrix\n",
    "import itertools\n",
    "\n",
    "def plot_confusion_matrix(cm, classes,\n",
    "                            normalize=False,\n",
    "                            title='Confusion matrix',\n",
    "                            cmap=plt.cm.Blues):\n",
    "\n",
    "        if normalize:\n",
    "            cm = cm.astype('float') / cm.sum(axis=1)[:, np.newaxis]\n",
    "            print(\"Normalized confusion matrix\")\n",
    "        else:\n",
    "            print('Confusion matrix, without normalization')\n",
    "    \n",
    "        print(cm)\n",
    "    \n",
    "        plt.imshow(cm, interpolation='nearest', cmap=cmap)\n",
    "        plt.title(title)\n",
    "        plt.colorbar()\n",
    "        tick_marks = np.arange(len(classes))\n",
    "        plt.xticks(tick_marks, classes, rotation=45)\n",
    "        plt.yticks(tick_marks, classes)\n",
    "    \n",
    "        fmt = '.2f' if normalize else 'd'\n",
    "        thresh = cm.max() / 2.\n",
    "        for i, j in itertools.product(range(cm.shape[0]), range(cm.shape[1])):\n",
    "            plt.text(j, i, format(cm[i, j], fmt),\n",
    "                     horizontalalignment=\"center\",\n",
    "                     color=\"white\" if cm[i, j] > thresh else \"black\")\n",
    "    \n",
    "        plt.tight_layout()\n",
    "        plt.ylabel('True label')\n",
    "        plt.xlabel('Predicted label')\n",
    "\n",
    "Y_pred = model.predict(X_test)\n",
    "y_pred = np.argmax(Y_pred, axis=1)\n",
    "cnf_matrix = confusion_matrix(np.argmax(Y_test, axis=1), y_pred)\n",
    "\n",
    "plt.figure(figsize=(10, 8))\n",
    "plot_confusion_matrix(cnf_matrix, classes=mods, normalize=True,\n",
    "                        title='Normalized confusion matrix')\n",
    "plt.show()"
   ],
   "metadata": {
    "trusted": true,
    "pycharm": {
     "name": "#%%\n"
    }
   },
   "execution_count": null,
   "outputs": []
  }
 ]
}